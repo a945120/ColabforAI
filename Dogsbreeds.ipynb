{
  "nbformat": 4,
  "nbformat_minor": 0,
  "metadata": {
    "colab": {
      "provenance": [],
      "include_colab_link": true
    },
    "kernelspec": {
      "name": "python3",
      "display_name": "Python 3"
    },
    "language_info": {
      "name": "python"
    }
  },
  "cells": [
    {
      "cell_type": "markdown",
      "metadata": {
        "id": "view-in-github",
        "colab_type": "text"
      },
      "source": [
        "<a href=\"https://colab.research.google.com/github/a945120/ColabforAI/blob/master/Dogsbreeds.ipynb\" target=\"_parent\"><img src=\"https://colab.research.google.com/assets/colab-badge.svg\" alt=\"Open In Colab\"/></a>"
      ]
    },
    {
      "cell_type": "markdown",
      "source": [
        "!git clone https://github.com/a945120/ColabforAI.git  連接github資料夾指令"
      ],
      "metadata": {
        "id": "BsT7bBw8lh7x"
      }
    },
    {
      "cell_type": "code",
      "source": [
        "!git clone https://github.com/a945120/ColabforAI.git"
      ],
      "metadata": {
        "id": "xtFk--awlpcX",
        "outputId": "df16259c-df3c-4058-da46-2610359e3b46",
        "colab": {
          "base_uri": "https://localhost:8080/"
        }
      },
      "execution_count": 1,
      "outputs": [
        {
          "output_type": "stream",
          "name": "stdout",
          "text": [
            "Cloning into 'ColabforAI'...\n",
            "remote: Enumerating objects: 43, done.\u001b[K\n",
            "remote: Counting objects: 100% (43/43), done.\u001b[K\n",
            "remote: Compressing objects: 100% (38/38), done.\u001b[K\n",
            "remote: Total 43 (delta 9), reused 0 (delta 0), pack-reused 0\u001b[K\n",
            "Unpacking objects: 100% (43/43), 9.87 KiB | 919.00 KiB/s, done.\n"
          ]
        }
      ]
    },
    {
      "cell_type": "code",
      "source": [
        "#visualization\n",
        "import matplotlib.pyplot as plt\n",
        "\n",
        "#data manipulations\n",
        "import numpy as np\n",
        "import pandas as pd\n",
        "\n",
        "#pytorch\n",
        "import torchvision\n",
        "import torch\n",
        "import torch.optim as optim\n",
        "import torch.nn as nn\n",
        "import torch.nn.functional as F"
      ],
      "metadata": {
        "id": "bjyw5M_nnFfp"
      },
      "execution_count": null,
      "outputs": []
    }
  ]
}