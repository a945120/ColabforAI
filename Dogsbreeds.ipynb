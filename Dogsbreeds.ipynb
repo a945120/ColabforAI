{
  "nbformat": 4,
  "nbformat_minor": 0,
  "metadata": {
    "colab": {
      "provenance": [],
      "include_colab_link": true
    },
    "kernelspec": {
      "name": "python3",
      "display_name": "Python 3"
    },
    "language_info": {
      "name": "python"
    }
  },
  "cells": [
    {
      "cell_type": "markdown",
      "metadata": {
        "id": "view-in-github",
        "colab_type": "text"
      },
      "source": [
        "<a href=\"https://colab.research.google.com/github/a945120/ColabforAI/blob/master/Dogsbreeds.ipynb\" target=\"_parent\"><img src=\"https://colab.research.google.com/assets/colab-badge.svg\" alt=\"Open In Colab\"/></a>"
      ]
    },
    {
      "cell_type": "markdown",
      "source": [
        "!git clone https://github.com/a945120/ColabforAI.git  連接github資料夾指令"
      ],
      "metadata": {
        "id": "BsT7bBw8lh7x"
      }
    },
    {
      "cell_type": "code",
      "source": [
        "!git clone https://github.com/a945120/ColabforAI.git"
      ],
      "metadata": {
        "id": "xtFk--awlpcX",
        "outputId": "25e65e11-6c29-4a67-a859-26dc2554d35a",
        "colab": {
          "base_uri": "https://localhost:8080/"
        }
      },
      "execution_count": null,
      "outputs": [
        {
          "output_type": "stream",
          "name": "stdout",
          "text": [
            "Cloning into 'ColabforAI'...\n",
            "remote: Enumerating objects: 3567, done.\u001b[K\n",
            "remote: Counting objects: 100% (55/55), done.\u001b[K\n",
            "remote: Compressing objects: 100% (39/39), done.\u001b[K\n",
            "remote: Total 3567 (delta 12), reused 42 (delta 9), pack-reused 3512\u001b[K\n",
            "Receiving objects: 100% (3567/3567), 125.61 MiB | 35.21 MiB/s, done.\n",
            "Resolving deltas: 100% (12/12), done.\n"
          ]
        }
      ]
    },
    {
      "cell_type": "code",
      "source": [
        "#visualization\n",
        "import matplotlib.pyplot as plt\n",
        "\n",
        "#data manipulations\n",
        "import numpy as np\n",
        "import pandas as pd\n",
        "\n",
        "#pytorch\n",
        "import torchvision\n",
        "import torch\n",
        "import torch.optim as optim\n",
        "import torch.nn as nn\n",
        "import torch.nn.functional as F\n",
        "from torchvision.datasets import ImageFolder"
      ],
      "metadata": {
        "id": "bjyw5M_nnFfp"
      },
      "execution_count": 7,
      "outputs": []
    },
    {
      "cell_type": "code",
      "source": [
        "from PIL import Image\n",
        "from collections import OrderedDict"
      ],
      "metadata": {
        "id": "wOss8DWMAQKb"
      },
      "execution_count": 5,
      "outputs": []
    },
    {
      "cell_type": "code",
      "source": [
        "dataset = ImageFolder('/content/ColabforAI/images modify')\n",
        "print('Total Images number: ',len(dataset))\n",
        "print('Total Classes number: ',len(dataset.classes))"
      ],
      "metadata": {
        "id": "1zAoaFMyAVPi",
        "outputId": "18acc0a5-837b-44d4-e747-d498658739e7",
        "colab": {
          "base_uri": "https://localhost:8080/"
        }
      },
      "execution_count": 13,
      "outputs": [
        {
          "output_type": "stream",
          "name": "stdout",
          "text": [
            "Total Images number:  3494\n",
            "Total Classes number:  20\n"
          ]
        }
      ]
    },
    {
      "cell_type": "code",
      "source": [],
      "metadata": {
        "id": "q1rtjdJyEjCg"
      },
      "execution_count": null,
      "outputs": []
    }
  ]
}